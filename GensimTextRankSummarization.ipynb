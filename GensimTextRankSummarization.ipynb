{
 "cells": [
  {
   "cell_type": "markdown",
   "metadata": {},
   "source": [
    "Load data from the LDA model "
   ]
  },
  {
   "cell_type": "code",
   "execution_count": 3,
   "metadata": {},
   "outputs": [],
   "source": [
    "import pandas as pd\n",
    "import os\n",
    "from gensim.summarization.summarizer import summarize"
   ]
  },
  {
   "cell_type": "code",
   "execution_count": 5,
   "metadata": {},
   "outputs": [],
   "source": [
    "workspace = r\"D:\\User\\Documents\\SMU CONTENT\\Year 3 Sem 2\\IS450\\Project\\Main\\Exploration\"\n",
    "os.chdir(workspace)\n",
    "path = r'TM_LDA_coherence200+.csv'\n",
    "topicData = pd.read_csv(path)\n",
    "\n",
    "df1 = pd.DataFrame(topicData)"
   ]
  },
  {
   "cell_type": "markdown",
   "metadata": {},
   "source": [
    "Remove first column as duplicate"
   ]
  },
  {
   "cell_type": "code",
   "execution_count": 6,
   "metadata": {},
   "outputs": [],
   "source": [
    "df2 = df1[df1.columns[1:]].copy()"
   ]
  },
  {
   "cell_type": "code",
   "execution_count": 7,
   "metadata": {},
   "outputs": [],
   "source": [
    "columns_interest = ['ProductId', 'Original', 'Text', 'product_category', 'Automated_topic_id']"
   ]
  },
  {
   "cell_type": "code",
   "execution_count": 8,
   "metadata": {},
   "outputs": [],
   "source": [
    "df3 = df2[columns_interest].copy()"
   ]
  },
  {
   "cell_type": "code",
   "execution_count": 9,
   "metadata": {},
   "outputs": [
    {
     "data": {
      "text/html": [
       "<div>\n",
       "<style scoped>\n",
       "    .dataframe tbody tr th:only-of-type {\n",
       "        vertical-align: middle;\n",
       "    }\n",
       "\n",
       "    .dataframe tbody tr th {\n",
       "        vertical-align: top;\n",
       "    }\n",
       "\n",
       "    .dataframe thead th {\n",
       "        text-align: right;\n",
       "    }\n",
       "</style>\n",
       "<table border=\"1\" class=\"dataframe\">\n",
       "  <thead>\n",
       "    <tr style=\"text-align: right;\">\n",
       "      <th></th>\n",
       "      <th>ProductId</th>\n",
       "      <th>Original</th>\n",
       "      <th>Text</th>\n",
       "      <th>product_category</th>\n",
       "      <th>Automated_topic_id</th>\n",
       "    </tr>\n",
       "  </thead>\n",
       "  <tbody>\n",
       "    <tr>\n",
       "      <th>0</th>\n",
       "      <td>B000LKU03G</td>\n",
       "      <td>This is my family's favorite brand of wheat fr...</td>\n",
       "      <td>This is my family's favorite brand of wheat fr...</td>\n",
       "      <td>'Cakes'</td>\n",
       "      <td>quality</td>\n",
       "    </tr>\n",
       "    <tr>\n",
       "      <th>1</th>\n",
       "      <td>B000LKU03G</td>\n",
       "      <td>This is my family's favorite brand of wheat fr...</td>\n",
       "      <td>This brand is moist, tasty and closer to the t...</td>\n",
       "      <td>'Cakes'</td>\n",
       "      <td>taste</td>\n",
       "    </tr>\n",
       "    <tr>\n",
       "      <th>2</th>\n",
       "      <td>B000LKU03G</td>\n",
       "      <td>This is my family's favorite brand of wheat fr...</td>\n",
       "      <td>Namaste products are the best in my opinion of...</td>\n",
       "      <td>'Cakes'</td>\n",
       "      <td>quality</td>\n",
       "    </tr>\n",
       "    <tr>\n",
       "      <th>3</th>\n",
       "      <td>B000LKU03G</td>\n",
       "      <td>This is my family's favorite brand of wheat fr...</td>\n",
       "      <td>Try it</td>\n",
       "      <td>'Cakes'</td>\n",
       "      <td>quality</td>\n",
       "    </tr>\n",
       "    <tr>\n",
       "      <th>4</th>\n",
       "      <td>B000LKU03G</td>\n",
       "      <td>This is my family's favorite brand of wheat fr...</td>\n",
       "      <td>You won't be disappointed</td>\n",
       "      <td>'Cakes'</td>\n",
       "      <td>taste</td>\n",
       "    </tr>\n",
       "  </tbody>\n",
       "</table>\n",
       "</div>"
      ],
      "text/plain": [
       "    ProductId                                           Original  \\\n",
       "0  B000LKU03G  This is my family's favorite brand of wheat fr...   \n",
       "1  B000LKU03G  This is my family's favorite brand of wheat fr...   \n",
       "2  B000LKU03G  This is my family's favorite brand of wheat fr...   \n",
       "3  B000LKU03G  This is my family's favorite brand of wheat fr...   \n",
       "4  B000LKU03G  This is my family's favorite brand of wheat fr...   \n",
       "\n",
       "                                                Text product_category  \\\n",
       "0  This is my family's favorite brand of wheat fr...          'Cakes'   \n",
       "1  This brand is moist, tasty and closer to the t...          'Cakes'   \n",
       "2  Namaste products are the best in my opinion of...          'Cakes'   \n",
       "3                                             Try it          'Cakes'   \n",
       "4                          You won't be disappointed          'Cakes'   \n",
       "\n",
       "  Automated_topic_id  \n",
       "0            quality  \n",
       "1              taste  \n",
       "2            quality  \n",
       "3            quality  \n",
       "4              taste  "
      ]
     },
     "execution_count": 9,
     "metadata": {},
     "output_type": "execute_result"
    }
   ],
   "source": [
    "df3.head()"
   ]
  },
  {
   "cell_type": "markdown",
   "metadata": {},
   "source": [
    "Clean the product category column values, additional '' marks are include, we want to remove them"
   ]
  },
  {
   "cell_type": "code",
   "execution_count": 10,
   "metadata": {},
   "outputs": [],
   "source": [
    "def clean_product_cat(category):\n",
    "    \"\"\"\n",
    "    clean product category columns\n",
    "    \"\"\"    \n",
    "    return category.rstrip(\"/'\").lstrip(\" '\")"
   ]
  },
  {
   "cell_type": "code",
   "execution_count": 12,
   "metadata": {},
   "outputs": [],
   "source": [
    "df3['product_category'] = df3['product_category'].apply(clean_product_cat)"
   ]
  },
  {
   "cell_type": "markdown",
   "metadata": {},
   "source": [
    "Create a list of categories "
   ]
  },
  {
   "cell_type": "code",
   "execution_count": 13,
   "metadata": {},
   "outputs": [],
   "source": [
    "categoryLs = df3.groupby('product_category').count().sort_values(by = 'Text').index.tolist()"
   ]
  },
  {
   "cell_type": "code",
   "execution_count": 15,
   "metadata": {},
   "outputs": [
    {
     "data": {
      "text/plain": [
       "'False Eyelashes & Adhesives'"
      ]
     },
     "execution_count": 15,
     "metadata": {},
     "output_type": "execute_result"
    }
   ],
   "source": [
    "categoryLs[1]"
   ]
  },
  {
   "cell_type": "markdown",
   "metadata": {},
   "source": [
    "Two helper functions to help us to first create individual dataframes for each product category, and then to create individual topic dataframes from each of these dataframes to generate aspect-based summaries "
   ]
  },
  {
   "cell_type": "code",
   "execution_count": 16,
   "metadata": {},
   "outputs": [],
   "source": [
    "def create_df(data,product_cat = 'False Eyelashes & Adhesives'):\n",
    "    \"\"\"\n",
    "    returns a new df from product_cat\n",
    "    \"\"\"\n",
    "    df1 = data[data['product_category'] == product_cat].copy()\n",
    "    return df1\n",
    "\n",
    "\n",
    "def summarizerMod(data, wordCount=100):\n",
    "    \n",
    "    \"\"\"\n",
    "    data : input dataframe from create_df function\n",
    "    input dataframe by category, returns a list of summaries for each \n",
    "    topic. outputs all the summary for each given topic\n",
    "    \"\"\"\n",
    "    summary_results = []\n",
    "    topic_ls = list(data['Automated_topic_id'].unique())\n",
    "    combined_text = ''\n",
    "    for i in range(len(topic_ls)):\n",
    "            temp_df = data[data['Automated_topic_id'] == topic_ls[i]].copy()\n",
    "            temp_df = temp_df['Text'].apply(str).apply(lambda x: x.capitalize()).apply(lambda x: x.replace('<br />','')).copy().unique() # add in lambda to replace the br statements\n",
    "            temp_ls = temp_df.tolist()\n",
    "            combined_text = '. '.join(temp_ls) # must have additional space if not summarizer cannot tokenize\n",
    "            try:\n",
    "                summary_out = summarize(combined_text+'.', word_count = wordCount, split = True)\n",
    "                summary_out = ''.join(summary_out)\n",
    "                summary_results.append((topic_ls[i],summary_out,combined_text, True)) #take only the first 4\n",
    "            except ValueError:\n",
    "                summary_results.append((topic_ls[i],combined_text, combined_text, False))\n",
    "    return summary_results"
   ]
  },
  {
   "cell_type": "markdown",
   "metadata": {},
   "source": [
    "Create empty df to store our summaries. We will output a category id, a topic, a summary as well as the original text."
   ]
  },
  {
   "cell_type": "code",
   "execution_count": 17,
   "metadata": {},
   "outputs": [],
   "source": [
    "finalDf = pd.DataFrame(columns = ['categoryID', 'topic', 'summary', 'originalText','summary_generated'])"
   ]
  },
  {
   "cell_type": "markdown",
   "metadata": {},
   "source": [
    "### Run Main"
   ]
  },
  {
   "cell_type": "code",
   "execution_count": 19,
   "metadata": {},
   "outputs": [
    {
     "name": "stdout",
     "output_type": "stream",
     "text": [
      " Currently summarising Cocoa !Butter !se !Bars !!es !ories !\n",
      "completed!\n"
     ]
    }
   ],
   "source": [
    "pathOut = \"gensim_out200+.csv\"\n",
    "for i in range(len(categoryLs)):\n",
    "    tempdf = create_df(df3, categoryLs[i])\n",
    "    print(f\"\\r Currently summarising {categoryLs[i]} !\", end = \"\")\n",
    "    summaries = summarizerMod(tempdf,wordCount=100)\n",
    "    for j in range(len(summaries)):\n",
    "        try:\n",
    "            finalDf = finalDf.append({'categoryID' : categoryLs[i],'topic' : summaries[j][0], 'summary' : summaries[j][1],'originalText':summaries[j][2],'summary_generated':summaries[j][3]}, ignore_index=True)\n",
    "            finalDf.to_csv(pathOut)\n",
    "        except:\n",
    "            finalDf.to_csv(pathOut)\n",
    "            print(\"caught exception at \", \"j = \", j, \"i = \", i)\n",
    "            continue \n",
    "print('')\n",
    "print('completed!')"
   ]
  },
  {
   "cell_type": "code",
   "execution_count": 20,
   "metadata": {},
   "outputs": [
    {
     "data": {
      "text/html": [
       "<div>\n",
       "<style scoped>\n",
       "    .dataframe tbody tr th:only-of-type {\n",
       "        vertical-align: middle;\n",
       "    }\n",
       "\n",
       "    .dataframe tbody tr th {\n",
       "        vertical-align: top;\n",
       "    }\n",
       "\n",
       "    .dataframe thead th {\n",
       "        text-align: right;\n",
       "    }\n",
       "</style>\n",
       "<table border=\"1\" class=\"dataframe\">\n",
       "  <thead>\n",
       "    <tr style=\"text-align: right;\">\n",
       "      <th></th>\n",
       "      <th>categoryID</th>\n",
       "      <th>topic</th>\n",
       "      <th>summary</th>\n",
       "      <th>originalText</th>\n",
       "      <th>summary_generated</th>\n",
       "    </tr>\n",
       "  </thead>\n",
       "  <tbody>\n",
       "    <tr>\n",
       "      <th>0</th>\n",
       "      <td>Sunflowers</td>\n",
       "      <td>Others</td>\n",
       "      <td>When the flowers showed up, they were in prett...</td>\n",
       "      <td>When the flowers showed up, they were in prett...</td>\n",
       "      <td>True</td>\n",
       "    </tr>\n",
       "    <tr>\n",
       "      <th>1</th>\n",
       "      <td>False Eyelashes &amp; Adhesives</td>\n",
       "      <td>taste</td>\n",
       "      <td>These truffles melt slowly in your mouth with ...</td>\n",
       "      <td>These truffles melt slowly in your mouth with ...</td>\n",
       "      <td>True</td>\n",
       "    </tr>\n",
       "    <tr>\n",
       "      <th>2</th>\n",
       "      <td>Pastry Shells &amp; Crusts</td>\n",
       "      <td>Others</td>\n",
       "      <td>Was quite pleased with the product.Would buy a...</td>\n",
       "      <td>Was quite pleased with the product. Would buy ...</td>\n",
       "      <td>True</td>\n",
       "    </tr>\n",
       "    <tr>\n",
       "      <th>3</th>\n",
       "      <td>Pastry Shells &amp; Crusts</td>\n",
       "      <td>quality</td>\n",
       "      <td></td>\n",
       "      <td>Arrived on time and wrapped well. The service ...</td>\n",
       "      <td>True</td>\n",
       "    </tr>\n",
       "    <tr>\n",
       "      <th>4</th>\n",
       "      <td>Basic Collars</td>\n",
       "      <td>taste</td>\n",
       "      <td>I have a pit bull who is a little over a year ...</td>\n",
       "      <td>I have a pit bull who is a little over a year ...</td>\n",
       "      <td>True</td>\n",
       "    </tr>\n",
       "    <tr>\n",
       "      <th>...</th>\n",
       "      <td>...</td>\n",
       "      <td>...</td>\n",
       "      <td>...</td>\n",
       "      <td>...</td>\n",
       "      <td>...</td>\n",
       "    </tr>\n",
       "    <tr>\n",
       "      <th>443</th>\n",
       "      <td>Snacks</td>\n",
       "      <td>taste</td>\n",
       "      <td>One of my six cats is super finicky, he likes ...</td>\n",
       "      <td>In the future, i'd be more apt to open up a 69...</td>\n",
       "      <td>True</td>\n",
       "    </tr>\n",
       "    <tr>\n",
       "      <th>444</th>\n",
       "      <td>Fruit &amp; Nut</td>\n",
       "      <td>taste</td>\n",
       "      <td>I love these bars as they are really filling a...</td>\n",
       "      <td>I would have liked to give these 2 and a half ...</td>\n",
       "      <td>True</td>\n",
       "    </tr>\n",
       "    <tr>\n",
       "      <th>445</th>\n",
       "      <td>Peanut Butter</td>\n",
       "      <td>taste</td>\n",
       "      <td>I use pb2 for my protein shakes and oh man doe...</td>\n",
       "      <td>It's got the typical jif taste, which to me is...</td>\n",
       "      <td>True</td>\n",
       "    </tr>\n",
       "    <tr>\n",
       "      <th>446</th>\n",
       "      <td>Peanut Butter</td>\n",
       "      <td>quality</td>\n",
       "      <td>Things i love about this product:it's organici...</td>\n",
       "      <td>Good for dipping pretzels or celery/other vegg...</td>\n",
       "      <td>True</td>\n",
       "    </tr>\n",
       "    <tr>\n",
       "      <th>447</th>\n",
       "      <td>Cocoa</td>\n",
       "      <td>taste</td>\n",
       "      <td>Now i aadmit to not reading the directions the...</td>\n",
       "      <td>I received the k-cups on time and in execellan...</td>\n",
       "      <td>True</td>\n",
       "    </tr>\n",
       "  </tbody>\n",
       "</table>\n",
       "<p>448 rows × 5 columns</p>\n",
       "</div>"
      ],
      "text/plain": [
       "                      categoryID    topic  \\\n",
       "0                     Sunflowers   Others   \n",
       "1    False Eyelashes & Adhesives    taste   \n",
       "2         Pastry Shells & Crusts   Others   \n",
       "3         Pastry Shells & Crusts  quality   \n",
       "4                  Basic Collars    taste   \n",
       "..                           ...      ...   \n",
       "443                       Snacks    taste   \n",
       "444                  Fruit & Nut    taste   \n",
       "445                Peanut Butter    taste   \n",
       "446                Peanut Butter  quality   \n",
       "447                        Cocoa    taste   \n",
       "\n",
       "                                               summary  \\\n",
       "0    When the flowers showed up, they were in prett...   \n",
       "1    These truffles melt slowly in your mouth with ...   \n",
       "2    Was quite pleased with the product.Would buy a...   \n",
       "3                                                        \n",
       "4    I have a pit bull who is a little over a year ...   \n",
       "..                                                 ...   \n",
       "443  One of my six cats is super finicky, he likes ...   \n",
       "444  I love these bars as they are really filling a...   \n",
       "445  I use pb2 for my protein shakes and oh man doe...   \n",
       "446  Things i love about this product:it's organici...   \n",
       "447  Now i aadmit to not reading the directions the...   \n",
       "\n",
       "                                          originalText summary_generated  \n",
       "0    When the flowers showed up, they were in prett...              True  \n",
       "1    These truffles melt slowly in your mouth with ...              True  \n",
       "2    Was quite pleased with the product. Would buy ...              True  \n",
       "3    Arrived on time and wrapped well. The service ...              True  \n",
       "4    I have a pit bull who is a little over a year ...              True  \n",
       "..                                                 ...               ...  \n",
       "443  In the future, i'd be more apt to open up a 69...              True  \n",
       "444  I would have liked to give these 2 and a half ...              True  \n",
       "445  It's got the typical jif taste, which to me is...              True  \n",
       "446  Good for dipping pretzels or celery/other vegg...              True  \n",
       "447  I received the k-cups on time and in execellan...              True  \n",
       "\n",
       "[448 rows x 5 columns]"
      ]
     },
     "execution_count": 20,
     "metadata": {},
     "output_type": "execute_result"
    }
   ],
   "source": [
    "finalDf"
   ]
  },
  {
   "cell_type": "code",
   "execution_count": null,
   "metadata": {},
   "outputs": [],
   "source": []
  }
 ],
 "metadata": {
  "kernelspec": {
   "display_name": "NewEnv",
   "language": "python",
   "name": "newenv"
  },
  "language_info": {
   "codemirror_mode": {
    "name": "ipython",
    "version": 3
   },
   "file_extension": ".py",
   "mimetype": "text/x-python",
   "name": "python",
   "nbconvert_exporter": "python",
   "pygments_lexer": "ipython3",
   "version": "3.7.0"
  }
 },
 "nbformat": 4,
 "nbformat_minor": 2
}
