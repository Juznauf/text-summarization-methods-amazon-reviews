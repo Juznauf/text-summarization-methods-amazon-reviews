{
 "cells": [
  {
   "cell_type": "markdown",
   "metadata": {},
   "source": [
    "Pre-processing and read in files\n"
   ]
  },
  {
   "cell_type": "code",
   "execution_count": 138,
   "metadata": {},
   "outputs": [],
   "source": [
    "import pandas as pd\n",
    "import os\n"
   ]
  },
  {
   "cell_type": "code",
   "execution_count": 2,
   "metadata": {},
   "outputs": [],
   "source": [
    "workspace = r\"D:\\User\\Documents\\SMU CONTENT\\Year 3 Sem 2\\IS450\\Project\\Main\\Exploration\"\n",
    "os.chdir(workspace)\n",
    "path = r'TM_LDA_coherence200+.csv'\n",
    "topicData = pd.read_csv(path)\n",
    "df1 = pd.DataFrame(topicData)"
   ]
  },
  {
   "cell_type": "code",
   "execution_count": 3,
   "metadata": {},
   "outputs": [],
   "source": [
    "columns_interest = ['ProductId', 'Original', 'Text', 'product_category', 'Automated_topic_id']"
   ]
  },
  {
   "cell_type": "code",
   "execution_count": 4,
   "metadata": {},
   "outputs": [],
   "source": [
    "df2 = df1[columns_interest].copy()"
   ]
  },
  {
   "cell_type": "code",
   "execution_count": 5,
   "metadata": {},
   "outputs": [
    {
     "data": {
      "text/html": [
       "<div>\n",
       "<style scoped>\n",
       "    .dataframe tbody tr th:only-of-type {\n",
       "        vertical-align: middle;\n",
       "    }\n",
       "\n",
       "    .dataframe tbody tr th {\n",
       "        vertical-align: top;\n",
       "    }\n",
       "\n",
       "    .dataframe thead th {\n",
       "        text-align: right;\n",
       "    }\n",
       "</style>\n",
       "<table border=\"1\" class=\"dataframe\">\n",
       "  <thead>\n",
       "    <tr style=\"text-align: right;\">\n",
       "      <th></th>\n",
       "      <th>ProductId</th>\n",
       "      <th>Original</th>\n",
       "      <th>Text</th>\n",
       "      <th>product_category</th>\n",
       "      <th>Automated_topic_id</th>\n",
       "    </tr>\n",
       "  </thead>\n",
       "  <tbody>\n",
       "    <tr>\n",
       "      <th>0</th>\n",
       "      <td>B000LKU03G</td>\n",
       "      <td>This is my family's favorite brand of wheat fr...</td>\n",
       "      <td>This is my family's favorite brand of wheat fr...</td>\n",
       "      <td>'Cakes'</td>\n",
       "      <td>quality</td>\n",
       "    </tr>\n",
       "    <tr>\n",
       "      <th>1</th>\n",
       "      <td>B000LKU03G</td>\n",
       "      <td>This is my family's favorite brand of wheat fr...</td>\n",
       "      <td>This brand is moist, tasty and closer to the t...</td>\n",
       "      <td>'Cakes'</td>\n",
       "      <td>taste</td>\n",
       "    </tr>\n",
       "    <tr>\n",
       "      <th>2</th>\n",
       "      <td>B000LKU03G</td>\n",
       "      <td>This is my family's favorite brand of wheat fr...</td>\n",
       "      <td>Namaste products are the best in my opinion of...</td>\n",
       "      <td>'Cakes'</td>\n",
       "      <td>quality</td>\n",
       "    </tr>\n",
       "    <tr>\n",
       "      <th>3</th>\n",
       "      <td>B000LKU03G</td>\n",
       "      <td>This is my family's favorite brand of wheat fr...</td>\n",
       "      <td>Try it</td>\n",
       "      <td>'Cakes'</td>\n",
       "      <td>quality</td>\n",
       "    </tr>\n",
       "    <tr>\n",
       "      <th>4</th>\n",
       "      <td>B000LKU03G</td>\n",
       "      <td>This is my family's favorite brand of wheat fr...</td>\n",
       "      <td>You won't be disappointed</td>\n",
       "      <td>'Cakes'</td>\n",
       "      <td>taste</td>\n",
       "    </tr>\n",
       "  </tbody>\n",
       "</table>\n",
       "</div>"
      ],
      "text/plain": [
       "    ProductId                                           Original  \\\n",
       "0  B000LKU03G  This is my family's favorite brand of wheat fr...   \n",
       "1  B000LKU03G  This is my family's favorite brand of wheat fr...   \n",
       "2  B000LKU03G  This is my family's favorite brand of wheat fr...   \n",
       "3  B000LKU03G  This is my family's favorite brand of wheat fr...   \n",
       "4  B000LKU03G  This is my family's favorite brand of wheat fr...   \n",
       "\n",
       "                                                Text product_category  \\\n",
       "0  This is my family's favorite brand of wheat fr...          'Cakes'   \n",
       "1  This brand is moist, tasty and closer to the t...          'Cakes'   \n",
       "2  Namaste products are the best in my opinion of...          'Cakes'   \n",
       "3                                             Try it          'Cakes'   \n",
       "4                          You won't be disappointed          'Cakes'   \n",
       "\n",
       "  Automated_topic_id  \n",
       "0            quality  \n",
       "1              taste  \n",
       "2            quality  \n",
       "3            quality  \n",
       "4              taste  "
      ]
     },
     "execution_count": 5,
     "metadata": {},
     "output_type": "execute_result"
    }
   ],
   "source": [
    "df2.head()"
   ]
  },
  {
   "cell_type": "markdown",
   "metadata": {},
   "source": [
    "Clean the product category column values, additional '' marks are include, we want to remove them"
   ]
  },
  {
   "cell_type": "code",
   "execution_count": 6,
   "metadata": {},
   "outputs": [],
   "source": [
    "def clean_product_cat(category):\n",
    "    \"\"\"\n",
    "    clean product category columns\n",
    "    \"\"\"    \n",
    "    return category.rstrip(\"/'\").lstrip(\" '\")"
   ]
  },
  {
   "cell_type": "code",
   "execution_count": 7,
   "metadata": {},
   "outputs": [],
   "source": [
    "df2['product_category'] = df2['product_category'].apply(clean_product_cat)"
   ]
  },
  {
   "cell_type": "code",
   "execution_count": 153,
   "metadata": {},
   "outputs": [],
   "source": [
    "def clean_text(text):\n",
    "    \n",
    "    pattern = r'<[^>.]*>'\n",
    "    text = re.sub(pattern, '', text)\n",
    "    return text"
   ]
  },
  {
   "cell_type": "code",
   "execution_count": 156,
   "metadata": {},
   "outputs": [],
   "source": [
    "df2['Text'] = df2['Text'].apply(clean_text)"
   ]
  },
  {
   "cell_type": "code",
   "execution_count": 157,
   "metadata": {},
   "outputs": [
    {
     "data": {
      "text/html": [
       "<div>\n",
       "<style scoped>\n",
       "    .dataframe tbody tr th:only-of-type {\n",
       "        vertical-align: middle;\n",
       "    }\n",
       "\n",
       "    .dataframe tbody tr th {\n",
       "        vertical-align: top;\n",
       "    }\n",
       "\n",
       "    .dataframe thead th {\n",
       "        text-align: right;\n",
       "    }\n",
       "</style>\n",
       "<table border=\"1\" class=\"dataframe\">\n",
       "  <thead>\n",
       "    <tr style=\"text-align: right;\">\n",
       "      <th></th>\n",
       "      <th>ProductId</th>\n",
       "      <th>Original</th>\n",
       "      <th>Text</th>\n",
       "      <th>product_category</th>\n",
       "      <th>Automated_topic_id</th>\n",
       "    </tr>\n",
       "  </thead>\n",
       "  <tbody>\n",
       "    <tr>\n",
       "      <th>0</th>\n",
       "      <td>B000LKU03G</td>\n",
       "      <td>This is my family's favorite brand of wheat fr...</td>\n",
       "      <td>This is my family's favorite brand of wheat fr...</td>\n",
       "      <td>Cakes</td>\n",
       "      <td>quality</td>\n",
       "    </tr>\n",
       "    <tr>\n",
       "      <th>1</th>\n",
       "      <td>B000LKU03G</td>\n",
       "      <td>This is my family's favorite brand of wheat fr...</td>\n",
       "      <td>This brand is moist, tasty and closer to the t...</td>\n",
       "      <td>Cakes</td>\n",
       "      <td>taste</td>\n",
       "    </tr>\n",
       "    <tr>\n",
       "      <th>2</th>\n",
       "      <td>B000LKU03G</td>\n",
       "      <td>This is my family's favorite brand of wheat fr...</td>\n",
       "      <td>Namaste products are the best in my opinion of...</td>\n",
       "      <td>Cakes</td>\n",
       "      <td>quality</td>\n",
       "    </tr>\n",
       "    <tr>\n",
       "      <th>3</th>\n",
       "      <td>B000LKU03G</td>\n",
       "      <td>This is my family's favorite brand of wheat fr...</td>\n",
       "      <td>Try it</td>\n",
       "      <td>Cakes</td>\n",
       "      <td>quality</td>\n",
       "    </tr>\n",
       "    <tr>\n",
       "      <th>4</th>\n",
       "      <td>B000LKU03G</td>\n",
       "      <td>This is my family's favorite brand of wheat fr...</td>\n",
       "      <td>You won't be disappointed</td>\n",
       "      <td>Cakes</td>\n",
       "      <td>taste</td>\n",
       "    </tr>\n",
       "  </tbody>\n",
       "</table>\n",
       "</div>"
      ],
      "text/plain": [
       "    ProductId                                           Original  \\\n",
       "0  B000LKU03G  This is my family's favorite brand of wheat fr...   \n",
       "1  B000LKU03G  This is my family's favorite brand of wheat fr...   \n",
       "2  B000LKU03G  This is my family's favorite brand of wheat fr...   \n",
       "3  B000LKU03G  This is my family's favorite brand of wheat fr...   \n",
       "4  B000LKU03G  This is my family's favorite brand of wheat fr...   \n",
       "\n",
       "                                                Text product_category  \\\n",
       "0  This is my family's favorite brand of wheat fr...            Cakes   \n",
       "1  This brand is moist, tasty and closer to the t...            Cakes   \n",
       "2  Namaste products are the best in my opinion of...            Cakes   \n",
       "3                                             Try it            Cakes   \n",
       "4                          You won't be disappointed            Cakes   \n",
       "\n",
       "  Automated_topic_id  \n",
       "0            quality  \n",
       "1              taste  \n",
       "2            quality  \n",
       "3            quality  \n",
       "4              taste  "
      ]
     },
     "execution_count": 157,
     "metadata": {},
     "output_type": "execute_result"
    }
   ],
   "source": [
    "df2.head()"
   ]
  },
  {
   "cell_type": "markdown",
   "metadata": {},
   "source": [
    "Create a list of categories "
   ]
  },
  {
   "cell_type": "code",
   "execution_count": 158,
   "metadata": {},
   "outputs": [],
   "source": [
    "categoryLs = df2.groupby('product_category').count().sort_values(by = 'Text').index.tolist()"
   ]
  },
  {
   "cell_type": "code",
   "execution_count": 159,
   "metadata": {},
   "outputs": [
    {
     "data": {
      "text/plain": [
       "'False Eyelashes & Adhesives'"
      ]
     },
     "execution_count": 159,
     "metadata": {},
     "output_type": "execute_result"
    }
   ],
   "source": [
    "categoryLs[1]"
   ]
  },
  {
   "cell_type": "markdown",
   "metadata": {},
   "source": [
    "Helper functions"
   ]
  },
  {
   "cell_type": "code",
   "execution_count": 219,
   "metadata": {},
   "outputs": [],
   "source": [
    "from sklearn.feature_extraction.text import TfidfVectorizer\n",
    "from nltk.stem.porter import PorterStemmer\n",
    "from sklearn.feature_extraction.text import TfidfTransformer\n",
    "from sklearn.feature_extraction.text import CountVectorizer\n",
    "import time"
   ]
  },
  {
   "cell_type": "code",
   "execution_count": 161,
   "metadata": {},
   "outputs": [],
   "source": [
    "def create_df(data,product_cat = 'Canola'):\n",
    "    \"\"\"\n",
    "    returns a new df from product_cat\n",
    "    \"\"\"\n",
    "    df1 = data[data['product_category'] == product_cat].copy()\n",
    "    return df1"
   ]
  },
  {
   "cell_type": "code",
   "execution_count": 220,
   "metadata": {},
   "outputs": [],
   "source": [
    "def main(data):\n",
    "    cv = CountVectorizer()\n",
    "    finalDf = pd.DataFrame(columns = ['categoryID', 'topic', 'summary', 'originalText'])\n",
    "#     for i in range(10):\n",
    "\n",
    "    for i in range(len(categoryLs)):\n",
    "        if i > 160:\n",
    "            time.sleep(10)\n",
    "        temp_df = create_df(data, categoryLs[i])\n",
    "        # this steps generates word counts for the words in your docs\n",
    "        topic_ls = list(temp_df['Automated_topic_id'].unique())\n",
    "        for j in range(len(topic_ls)):\n",
    "            temp_df2 = temp_df[temp_df['Automated_topic_id'] == topic_ls[j]].copy()\n",
    "            text_ls = temp_df2['Text'].tolist()\n",
    "            word_count_vector=cv.fit_transform(text_ls)    \n",
    "#             word_count_vector.shape\n",
    "            tfidf_transformer=TfidfTransformer(smooth_idf=True,use_idf=True)\n",
    "            tfidf_transformer.fit(word_count_vector)\n",
    "            # print idf values\n",
    "            df_idf = pd.DataFrame(tfidf_transformer.idf_, index=cv.get_feature_names(),columns=[\"idf_weights\"])\n",
    "\n",
    "            # sort ascending\n",
    "            df_idf.sort_values(by=['idf_weights'])\n",
    "\n",
    "            # count matrix\n",
    "            count_vector=cv.transform(text_ls)\n",
    "\n",
    "            # tf-idf scores\n",
    "            tf_idf_vector=tfidf_transformer.transform(count_vector)\n",
    "\n",
    "            feature_names = cv.get_feature_names()\n",
    "\n",
    "            #get tfidf vector for first document\n",
    "            first_document_vector=tf_idf_vector[0]\n",
    "\n",
    "            #print the scores\n",
    "            df = pd.DataFrame(first_document_vector.T.todense(), index=feature_names, columns=[\"tfidf\"])\n",
    "            df = df.sort_values(by=[\"tfidf\"],ascending=False)\n",
    "            \n",
    "            test_ls = [x.todense().sum() for x in tf_idf_vector]\n",
    "            test_df = pd.DataFrame(zip(text_ls,test_ls), columns = [\"Text\", \"Weighted - TFIDF\"]).sort_values(by = ['Weighted - TFIDF'], ascending =False)\n",
    "            summaries = '. '.join(test_df['Text'].tolist()[:4]) # take the first 4 text\n",
    "            finalDf = finalDf.append({'categoryID' : categoryLs[i],'topic' : topic_ls[j], 'summary' : summaries,'originalText':'. '.join(text_ls)}, ignore_index=True)\n",
    "    return finalDf\n"
   ]
  },
  {
   "cell_type": "code",
   "execution_count": 221,
   "metadata": {},
   "outputs": [],
   "source": [
    "summary_df = main(df2)"
   ]
  },
  {
   "cell_type": "code",
   "execution_count": 222,
   "metadata": {},
   "outputs": [
    {
     "data": {
      "text/html": [
       "<div>\n",
       "<style scoped>\n",
       "    .dataframe tbody tr th:only-of-type {\n",
       "        vertical-align: middle;\n",
       "    }\n",
       "\n",
       "    .dataframe tbody tr th {\n",
       "        vertical-align: top;\n",
       "    }\n",
       "\n",
       "    .dataframe thead th {\n",
       "        text-align: right;\n",
       "    }\n",
       "</style>\n",
       "<table border=\"1\" class=\"dataframe\">\n",
       "  <thead>\n",
       "    <tr style=\"text-align: right;\">\n",
       "      <th></th>\n",
       "      <th>categoryID</th>\n",
       "      <th>topic</th>\n",
       "      <th>summary</th>\n",
       "      <th>originalText</th>\n",
       "    </tr>\n",
       "  </thead>\n",
       "  <tbody>\n",
       "    <tr>\n",
       "      <th>0</th>\n",
       "      <td>Sunflowers</td>\n",
       "      <td>Others</td>\n",
       "      <td>I figured that water and the provided plant fo...</td>\n",
       "      <td>When the flowers showed up, they were in prett...</td>\n",
       "    </tr>\n",
       "    <tr>\n",
       "      <th>1</th>\n",
       "      <td>False Eyelashes &amp; Adhesives</td>\n",
       "      <td>taste</td>\n",
       "      <td>These truffles melt slowly in your mouth with ...</td>\n",
       "      <td>These truffles melt slowly in your mouth with ...</td>\n",
       "    </tr>\n",
       "    <tr>\n",
       "      <th>2</th>\n",
       "      <td>Pastry Shells &amp; Crusts</td>\n",
       "      <td>Others</td>\n",
       "      <td>It's hard to find those things in grocery stor...</td>\n",
       "      <td>Was quite pleased with the product. Would buy ...</td>\n",
       "    </tr>\n",
       "    <tr>\n",
       "      <th>3</th>\n",
       "      <td>Pastry Shells &amp; Crusts</td>\n",
       "      <td>quality</td>\n",
       "      <td>The service was excellent, and the patty shell...</td>\n",
       "      <td>Arrived on time and wrapped well. The service ...</td>\n",
       "    </tr>\n",
       "    <tr>\n",
       "      <th>4</th>\n",
       "      <td>Basic Collars</td>\n",
       "      <td>taste</td>\n",
       "      <td>I have a Pit Bull who is a little over a year ...</td>\n",
       "      <td>I have a Pit Bull who is a little over a year ...</td>\n",
       "    </tr>\n",
       "    <tr>\n",
       "      <th>...</th>\n",
       "      <td>...</td>\n",
       "      <td>...</td>\n",
       "      <td>...</td>\n",
       "      <td>...</td>\n",
       "    </tr>\n",
       "    <tr>\n",
       "      <th>443</th>\n",
       "      <td>Snacks</td>\n",
       "      <td>taste</td>\n",
       "      <td>So because they love them so much, these are n...</td>\n",
       "      <td>In the future, I'd be more apt to open up a 69...</td>\n",
       "    </tr>\n",
       "    <tr>\n",
       "      <th>444</th>\n",
       "      <td>Fruit &amp; Nut</td>\n",
       "      <td>taste</td>\n",
       "      <td>Ingredients(All ingredients are gluten-free)Or...</td>\n",
       "      <td>I would have liked to give these 2 and a half ...</td>\n",
       "    </tr>\n",
       "    <tr>\n",
       "      <th>445</th>\n",
       "      <td>Peanut Butter</td>\n",
       "      <td>taste</td>\n",
       "      <td>I am so excited to have finally found a way to...</td>\n",
       "      <td>It's got the typical Jif taste, which to me is...</td>\n",
       "    </tr>\n",
       "    <tr>\n",
       "      <th>446</th>\n",
       "      <td>Peanut Butter</td>\n",
       "      <td>quality</td>\n",
       "      <td>, but it takes more of those things that are n...</td>\n",
       "      <td>Good for dipping pretzels or celery/other vegg...</td>\n",
       "    </tr>\n",
       "    <tr>\n",
       "      <th>447</th>\n",
       "      <td>Cocoa</td>\n",
       "      <td>taste</td>\n",
       "      <td>Here are facts on the box:Calories 60, Fat (Sa...</td>\n",
       "      <td>I received the K-cups on time and in execellan...</td>\n",
       "    </tr>\n",
       "  </tbody>\n",
       "</table>\n",
       "<p>448 rows × 4 columns</p>\n",
       "</div>"
      ],
      "text/plain": [
       "                      categoryID    topic  \\\n",
       "0                     Sunflowers   Others   \n",
       "1    False Eyelashes & Adhesives    taste   \n",
       "2         Pastry Shells & Crusts   Others   \n",
       "3         Pastry Shells & Crusts  quality   \n",
       "4                  Basic Collars    taste   \n",
       "..                           ...      ...   \n",
       "443                       Snacks    taste   \n",
       "444                  Fruit & Nut    taste   \n",
       "445                Peanut Butter    taste   \n",
       "446                Peanut Butter  quality   \n",
       "447                        Cocoa    taste   \n",
       "\n",
       "                                               summary  \\\n",
       "0    I figured that water and the provided plant fo...   \n",
       "1    These truffles melt slowly in your mouth with ...   \n",
       "2    It's hard to find those things in grocery stor...   \n",
       "3    The service was excellent, and the patty shell...   \n",
       "4    I have a Pit Bull who is a little over a year ...   \n",
       "..                                                 ...   \n",
       "443  So because they love them so much, these are n...   \n",
       "444  Ingredients(All ingredients are gluten-free)Or...   \n",
       "445  I am so excited to have finally found a way to...   \n",
       "446  , but it takes more of those things that are n...   \n",
       "447  Here are facts on the box:Calories 60, Fat (Sa...   \n",
       "\n",
       "                                          originalText  \n",
       "0    When the flowers showed up, they were in prett...  \n",
       "1    These truffles melt slowly in your mouth with ...  \n",
       "2    Was quite pleased with the product. Would buy ...  \n",
       "3    Arrived on time and wrapped well. The service ...  \n",
       "4    I have a Pit Bull who is a little over a year ...  \n",
       "..                                                 ...  \n",
       "443  In the future, I'd be more apt to open up a 69...  \n",
       "444  I would have liked to give these 2 and a half ...  \n",
       "445  It's got the typical Jif taste, which to me is...  \n",
       "446  Good for dipping pretzels or celery/other vegg...  \n",
       "447  I received the K-cups on time and in execellan...  \n",
       "\n",
       "[448 rows x 4 columns]"
      ]
     },
     "execution_count": 222,
     "metadata": {},
     "output_type": "execute_result"
    }
   ],
   "source": [
    "summary_df"
   ]
  },
  {
   "cell_type": "code",
   "execution_count": 230,
   "metadata": {},
   "outputs": [],
   "source": [
    "summary_df1 = summary_df.copy()"
   ]
  },
  {
   "cell_type": "code",
   "execution_count": 231,
   "metadata": {},
   "outputs": [],
   "source": [
    "summary_df1['originalText'] = summary_df1['originalText'].apply(lambda x: x.replace(\"\\'\",''))"
   ]
  },
  {
   "cell_type": "code",
   "execution_count": 232,
   "metadata": {},
   "outputs": [],
   "source": [
    "summary_df1['summary'] = summary_df1['summary'].apply(lambda x: x.replace(\"\\'\",''))"
   ]
  },
  {
   "cell_type": "markdown",
   "metadata": {},
   "source": [
    "Looking at an example summary"
   ]
  },
  {
   "cell_type": "code",
   "execution_count": 235,
   "metadata": {},
   "outputs": [
    {
     "data": {
      "text/plain": [
       "'I ordered this after a friend told me about all the great features & benefits and was so surprised at how great the coffee tasted, ease of use and the value added with all the additional parts. For those of us who cant stroll down to the local store and buy fresh ones (and I expect there are many of you out there), I think these are a good way to go. I was so excited to try a sweet hot sauce, my hubby and I are obsessed with buying new hot sauces, its actually the first thing we look to purchase when we are traveling. ( Did I mention coffee snob?)Having a way to make an easy,fast and excellent cup of coffee makes getting up in the morning something to really look forward to'"
      ]
     },
     "execution_count": 235,
     "metadata": {},
     "output_type": "execute_result"
    }
   ],
   "source": [
    "summary_df1['summary'].iloc[120]"
   ]
  },
  {
   "cell_type": "code",
   "execution_count": 236,
   "metadata": {},
   "outputs": [
    {
     "data": {
      "text/plain": [
       "'The bouquet is evocative and tended to linger in the air yet was in no way overpowering. A fine impression remains when the cup is set down and the intake of breath recharges the sensation. Some brews become distinctly unpleasant when the leaves are introduced to certain mineral-rich well water or treated city water. However, for a proper moment of relaxation-- or an attempt to induce one in the midst of chaos. This hot sauce is delicious. I put it on chinese food, mexican food, macaroni & cheese, everything. If youre looking for something really tasty and with a kick (and youre bored of Tabasco, Texas Pete, and all those) then you should try some of this stuff. I was so excited to try a sweet hot sauce, my hubby and I are obsessed with buying new hot sauces, its actually the first thing we look to purchase when we are traveling. YAHOO. This is some of the finest hot sauce Ive had. I highly reccomend putting it on pizza, breakfast burritos, steaks, chicken, everything. Buy it, you will not be dissapointed. All hot sauces are not created equal. It is light and carries a lot of punch. If you are looking for a new twist this is it. The Sour Apple is probably the one that is least like its name but is tasty nonetheless. Although they have not tasted them yet, the presentation ALONEs SIMPLY MARVELOUS. The speed in which my order was expedited was amazing. I would buy this product again, especially since its a lot cheaper than the porcinis in my local grocery. It takes about 20 minutes to rehydrate. For those of us who cant stroll down to the local store and buy fresh ones (and I expect there are many of you out there), I think these are a good way to go. Thanks for the service. I use Green Fit every morning as a great \"Boost\" to get my busy day started on the right track. I knew I would need vitamins and at least one overall healthy drink each morning. out to the beach I go. No worrys. I cant believe something like this hasnt been on the market until now. I downed one of these babies before an intense workout and another one after. wow. Love this stuff. And the thought of having enough protien and fiber at the same time is way better than eating a fried egg sandwich. For those who like flavored teas, this is a dont-miss. I dont want to go through a complicated process with alot of noise or big expense. I microwave milk and pour the \"espresso\" in. Order with confidence in a good product. havent tried the free sample coffee pod or k-cup that came with it yet, but i tried a bag of tea that i had in my pantry, and it came out amazing. will try the k-cup in the morning, but i expect the same results. When it arrived, I was amazed at how easy it is to use and more importantly how great the coffee tastes. Love it. I love the fact that it includes an adapter for my own coffee, because I like to use my own freshly ground beans from a local coffee bean roaster. ( Did I mention coffee snob?)Having a way to make an easy,fast and excellent cup of coffee makes getting up in the morning something to really look forward to. I ordered this after a friend told me about all the great features & benefits and was so surprised at how great the coffee tasted, ease of use and the value added with all the additional parts. If you dont have a Keurig machine and want a inexpensive way to use K-Cups then you may be satisfied. Also, it helps me stretch my food dollars by turning a few leftovers into a brand new, tasty meal. I ate the whole bag. Wow. I hide mine from my friends and I do not share. \"  The humility. I try as many hot sauces as I can. I put hot sauce on nearly everything. I highly recommend giving this sauce a try. This hot sauce is fantastic. Give it a try. Love this Hot Sauce. Helps keeps them fresh'"
      ]
     },
     "execution_count": 236,
     "metadata": {},
     "output_type": "execute_result"
    }
   ],
   "source": [
    "summary_df1['originalText'].iloc[120]"
   ]
  },
  {
   "cell_type": "markdown",
   "metadata": {},
   "source": [
    "Write to file"
   ]
  },
  {
   "cell_type": "code",
   "execution_count": 237,
   "metadata": {},
   "outputs": [],
   "source": [
    "summary_df1.to_csv('TF-IDF_summary.csv')"
   ]
  },
  {
   "cell_type": "code",
   "execution_count": null,
   "metadata": {},
   "outputs": [],
   "source": []
  }
 ],
 "metadata": {
  "kernelspec": {
   "display_name": "NewEnv",
   "language": "python",
   "name": "newenv"
  },
  "language_info": {
   "codemirror_mode": {
    "name": "ipython",
    "version": 3
   },
   "file_extension": ".py",
   "mimetype": "text/x-python",
   "name": "python",
   "nbconvert_exporter": "python",
   "pygments_lexer": "ipython3",
   "version": "3.7.0"
  }
 },
 "nbformat": 4,
 "nbformat_minor": 2
}
